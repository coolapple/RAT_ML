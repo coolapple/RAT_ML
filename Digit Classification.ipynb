{
 "cells": [
  {
   "cell_type": "markdown",
   "metadata": {},
   "source": [
    "# Handwritten Digitals Classification for Math App\n",
    "1. Show data cleaning and preparation steps\n",
    "\n",
    "2. Perform EDA on the given dataset and list out findings\n",
    "\n",
    "3. Predict the digits with different algorithms - Use Accuracy as a metric and provide best possible accuracy. \n",
    "\n",
    "4. Evaluate the training size impact on accuracy of the selected classification algorithm: Guassian Naive Classification with covariance. "
   ]
  },
  {
   "cell_type": "code",
   "execution_count": 1,
   "metadata": {},
   "outputs": [
    {
     "data": {
      "text/plain": [
       "'C:\\\\Users\\\\Apple\\\\Anaconda3\\\\Scripts'"
      ]
     },
     "execution_count": 1,
     "metadata": {},
     "output_type": "execute_result"
    }
   ],
   "source": [
    "# Importing neccessary Packages\n",
    "import numpy as np\n",
    "import pandas as pd\n",
    "import matplotlib.pyplot as plt\n",
    "import random as rd\n",
    "\n",
    "from scipy.stats import multivariate_normal as mvn\n",
    "import seaborn as sns\n",
    "\n",
    "import os \n",
    "\n",
    "os.getcwd()"
   ]
  },
  {
   "cell_type": "markdown",
   "metadata": {},
   "source": [
    "## 1. Data Cleaning and preparation steps"
   ]
  },
  {
   "cell_type": "code",
   "execution_count": 2,
   "metadata": {},
   "outputs": [
    {
     "data": {
      "text/html": [
       "<div>\n",
       "<style scoped>\n",
       "    .dataframe tbody tr th:only-of-type {\n",
       "        vertical-align: middle;\n",
       "    }\n",
       "\n",
       "    .dataframe tbody tr th {\n",
       "        vertical-align: top;\n",
       "    }\n",
       "\n",
       "    .dataframe thead th {\n",
       "        text-align: right;\n",
       "    }\n",
       "</style>\n",
       "<table border=\"1\" class=\"dataframe\">\n",
       "  <thead>\n",
       "    <tr style=\"text-align: right;\">\n",
       "      <th></th>\n",
       "      <th>Unnamed: 0</th>\n",
       "      <th>index</th>\n",
       "      <th>Unnamed: 0.1</th>\n",
       "      <th>0</th>\n",
       "      <th>1</th>\n",
       "      <th>2</th>\n",
       "      <th>3</th>\n",
       "      <th>4</th>\n",
       "      <th>5</th>\n",
       "      <th>6</th>\n",
       "      <th>...</th>\n",
       "      <th>775</th>\n",
       "      <th>776</th>\n",
       "      <th>777</th>\n",
       "      <th>778</th>\n",
       "      <th>779</th>\n",
       "      <th>780</th>\n",
       "      <th>781</th>\n",
       "      <th>782</th>\n",
       "      <th>783</th>\n",
       "      <th>labels</th>\n",
       "    </tr>\n",
       "  </thead>\n",
       "  <tbody>\n",
       "    <tr>\n",
       "      <th>0</th>\n",
       "      <td>1</td>\n",
       "      <td>0</td>\n",
       "      <td>0</td>\n",
       "      <td>0</td>\n",
       "      <td>0</td>\n",
       "      <td>0</td>\n",
       "      <td>0</td>\n",
       "      <td>0</td>\n",
       "      <td>0</td>\n",
       "      <td>0</td>\n",
       "      <td>...</td>\n",
       "      <td>0</td>\n",
       "      <td>0</td>\n",
       "      <td>0</td>\n",
       "      <td>0</td>\n",
       "      <td>0</td>\n",
       "      <td>0</td>\n",
       "      <td>0</td>\n",
       "      <td>0</td>\n",
       "      <td>0</td>\n",
       "      <td>5</td>\n",
       "    </tr>\n",
       "    <tr>\n",
       "      <th>1</th>\n",
       "      <td>2</td>\n",
       "      <td>1</td>\n",
       "      <td>1</td>\n",
       "      <td>0</td>\n",
       "      <td>0</td>\n",
       "      <td>0</td>\n",
       "      <td>0</td>\n",
       "      <td>0</td>\n",
       "      <td>0</td>\n",
       "      <td>0</td>\n",
       "      <td>...</td>\n",
       "      <td>0</td>\n",
       "      <td>0</td>\n",
       "      <td>0</td>\n",
       "      <td>0</td>\n",
       "      <td>0</td>\n",
       "      <td>0</td>\n",
       "      <td>0</td>\n",
       "      <td>0</td>\n",
       "      <td>0</td>\n",
       "      <td>0</td>\n",
       "    </tr>\n",
       "    <tr>\n",
       "      <th>2</th>\n",
       "      <td>3</td>\n",
       "      <td>2</td>\n",
       "      <td>2</td>\n",
       "      <td>0</td>\n",
       "      <td>0</td>\n",
       "      <td>0</td>\n",
       "      <td>0</td>\n",
       "      <td>0</td>\n",
       "      <td>0</td>\n",
       "      <td>0</td>\n",
       "      <td>...</td>\n",
       "      <td>0</td>\n",
       "      <td>0</td>\n",
       "      <td>0</td>\n",
       "      <td>0</td>\n",
       "      <td>0</td>\n",
       "      <td>0</td>\n",
       "      <td>0</td>\n",
       "      <td>0</td>\n",
       "      <td>0</td>\n",
       "      <td>4</td>\n",
       "    </tr>\n",
       "    <tr>\n",
       "      <th>3</th>\n",
       "      <td>4</td>\n",
       "      <td>3</td>\n",
       "      <td>3</td>\n",
       "      <td>0</td>\n",
       "      <td>0</td>\n",
       "      <td>0</td>\n",
       "      <td>0</td>\n",
       "      <td>0</td>\n",
       "      <td>0</td>\n",
       "      <td>0</td>\n",
       "      <td>...</td>\n",
       "      <td>0</td>\n",
       "      <td>0</td>\n",
       "      <td>0</td>\n",
       "      <td>0</td>\n",
       "      <td>0</td>\n",
       "      <td>0</td>\n",
       "      <td>0</td>\n",
       "      <td>0</td>\n",
       "      <td>0</td>\n",
       "      <td>1</td>\n",
       "    </tr>\n",
       "    <tr>\n",
       "      <th>4</th>\n",
       "      <td>5</td>\n",
       "      <td>4</td>\n",
       "      <td>4</td>\n",
       "      <td>0</td>\n",
       "      <td>0</td>\n",
       "      <td>0</td>\n",
       "      <td>0</td>\n",
       "      <td>0</td>\n",
       "      <td>0</td>\n",
       "      <td>0</td>\n",
       "      <td>...</td>\n",
       "      <td>0</td>\n",
       "      <td>0</td>\n",
       "      <td>0</td>\n",
       "      <td>0</td>\n",
       "      <td>0</td>\n",
       "      <td>0</td>\n",
       "      <td>0</td>\n",
       "      <td>0</td>\n",
       "      <td>0</td>\n",
       "      <td>9</td>\n",
       "    </tr>\n",
       "  </tbody>\n",
       "</table>\n",
       "<p>5 rows × 788 columns</p>\n",
       "</div>"
      ],
      "text/plain": [
       "   Unnamed: 0  index  Unnamed: 0.1  0  1  2  3  4  5  6  ...  775  776  777  \\\n",
       "0           1      0             0  0  0  0  0  0  0  0  ...    0    0    0   \n",
       "1           2      1             1  0  0  0  0  0  0  0  ...    0    0    0   \n",
       "2           3      2             2  0  0  0  0  0  0  0  ...    0    0    0   \n",
       "3           4      3             3  0  0  0  0  0  0  0  ...    0    0    0   \n",
       "4           5      4             4  0  0  0  0  0  0  0  ...    0    0    0   \n",
       "\n",
       "   778  779  780  781  782  783  labels  \n",
       "0    0    0    0    0    0    0       5  \n",
       "1    0    0    0    0    0    0       0  \n",
       "2    0    0    0    0    0    0       4  \n",
       "3    0    0    0    0    0    0       1  \n",
       "4    0    0    0    0    0    0       9  \n",
       "\n",
       "[5 rows x 788 columns]"
      ]
     },
     "execution_count": 2,
     "metadata": {},
     "output_type": "execute_result"
    }
   ],
   "source": [
    "# Load dataset\n",
    "data = pd.read_csv(\"MNIST.csv\")\n",
    "data.head()"
   ]
  },
  {
   "cell_type": "code",
   "execution_count": 3,
   "metadata": {},
   "outputs": [
    {
     "data": {
      "text/plain": [
       "1    0.112367\n",
       "7    0.104417\n",
       "3    0.102183\n",
       "2    0.099300\n",
       "9    0.099150\n",
       "0    0.098717\n",
       "6    0.098633\n",
       "8    0.097517\n",
       "4    0.097367\n",
       "5    0.090350\n",
       "Name: labels, dtype: float64"
      ]
     },
     "execution_count": 3,
     "metadata": {},
     "output_type": "execute_result"
    }
   ],
   "source": [
    "# frequency of each digits\n",
    "\n",
    "data.iloc[:,-1].value_counts(normalize=True)"
   ]
  },
  {
   "cell_type": "code",
   "execution_count": 4,
   "metadata": {},
   "outputs": [],
   "source": [
    "# create X and y\n",
    "\n",
    "data = data.to_numpy()\n",
    "data = data[: ,3:]\n",
    "\n",
    "N,D = data.shape\n",
    "\n",
    "#for i in range(N-1, 0, -1): \n",
    "      \n",
    "#    # Pick a random index from 0 to i  \n",
    "#    j = rd.randint(0, i + 1)  \n",
    "#    # Swap arr[i] with the element at random index  \n",
    "#    temp = data[i,:]\n",
    "#    data[i,:] = data[j,:]\n",
    "#    data[j,:] = temp\n",
    "\n",
    "\n",
    "\n",
    "X= data[:, :-1] \n",
    "\n",
    "y = data[:,-1] \n",
    "\n",
    "# doing bernulli Naive Classification\n",
    "#X[np.where(X> 127)] = 1\n",
    "#X[np.where(X<=127)] =0"
   ]
  },
  {
   "cell_type": "code",
   "execution_count": 5,
   "metadata": {},
   "outputs": [
    {
     "data": {
      "image/png": "[encoded data removed]",
      "text/plain": [
       "<matplotlib.figure.Figure at 0x217e8131198>"
      ]
     },
     "metadata": {},
     "output_type": "display_data"
    }
   ],
   "source": [
    "# First row is first image\n",
    "first_image = X[0,:]\n",
    "first_label = y[0]\n",
    "\n",
    "# 784 columns correspond to 28x28 image\n",
    "plottable_image = np.reshape(first_image, (28, 28))\n",
    "\n",
    "# Plot the image\n",
    "plt.imshow(plottable_image, cmap='gray_r')\n",
    "plt.title('Digit Label: {}'.format(first_label))\n",
    "plt.show()"
   ]
  },
  {
   "cell_type": "code",
   "execution_count": 6,
   "metadata": {},
   "outputs": [
    {
     "data": {
      "image/png": "[encoded data removed]",
      "text/plain": [
       "<matplotlib.figure.Figure at 0x217d67c8390>"
      ]
     },
     "metadata": {},
     "output_type": "display_data"
    }
   ],
   "source": [
    "# random data set looks like as digital images\n",
    "\n",
    "images_to_plot = 9\n",
    "random_indices = rd.sample(range(60000), images_to_plot) \n",
    "\n",
    "sample_images = X[random_indices, :]\n",
    "sample_labels = y[random_indices]\n",
    "\n",
    "fig, axes = plt.subplots(3,3, \n",
    "                         figsize=(5,5),\n",
    "                         sharex=True, sharey=True,\n",
    "                         subplot_kw=dict(adjustable='box-forced', aspect='equal'))  \n",
    "\n",
    "for i in range(images_to_plot):\n",
    "    \n",
    "    # axes (subplot) objects are stored in 2d array, accessed with axes[row,col]\n",
    "    subplot_row = i//3 \n",
    "    subplot_col = i%3  \n",
    "    ax = axes[subplot_row, subplot_col]\n",
    "\n",
    "    # plot image on subplot\n",
    "    plottable_image = np.reshape(sample_images[i,:], (28,28))\n",
    "    ax.imshow(plottable_image, cmap='gray_r')\n",
    "    \n",
    "    ax.set_title('Digit Label: {}'.format(sample_labels[i]))\n",
    "    ax.set_xbound([0,28])\n",
    "\n",
    "plt.tight_layout()\n",
    "plt.show()"
   ]
  },
  {
   "cell_type": "code",
   "execution_count": 7,
   "metadata": {},
   "outputs": [
    {
     "data": {
      "text/plain": [
       "Text(0,0.5,'Count')"
      ]
     },
     "execution_count": 7,
     "metadata": {},
     "output_type": "execute_result"
    },
    {
     "data": {
      "image/png": "[encoded data removed]",
      "text/plain": [
       "<matplotlib.figure.Figure at 0x217e7fec6d8>"
      ]
     },
     "metadata": {},
     "output_type": "display_data"
    }
   ],
   "source": [
    "results = np.zeros(784*60000)\n",
    "\n",
    "for i in range(784):\n",
    "    for j in range(60000):\n",
    "        results[j*784+i] = X[j][i]\n",
    "        \n",
    "        \n",
    "plt.hist(results, bins = 256)\n",
    "plt.title('Pixel Value Histogram')\n",
    "plt.xlabel('Pixel Value')\n",
    "plt.ylabel('Count')# average pixel values for digital images\n",
    "\n",
    "\n",
    "# 2. Perform EDA on the given dataset and list out findings"
   ]
  },
  {
   "cell_type": "markdown",
   "metadata": {},
   "source": [
    "# 2. Feature Engineering\n",
    "\n",
    "Based on the above pixel values distribution, we can use 0 and 1 for pixel values using specific cutoff value. \n",
    "\n"
   ]
  },
  {
   "cell_type": "code",
   "execution_count": null,
   "metadata": {},
   "outputs": [],
   "source": [
    "# doing bernulli Naive Classification\n",
    "#X[np.where(X> 100)] = 1\n",
    "#X[np.where(X<=100)] =0"
   ]
  },
  {
   "cell_type": "markdown",
   "metadata": {},
   "source": [
    "# 3. Perform EDA on the given dataset and list out findings\n",
    "1. average values of pixels for each digits, and visualization \n",
    "2. Variability of each digit using Euclidean distance by using boxplot.  \n"
   ]
  },
  {
   "cell_type": "code",
   "execution_count": 8,
   "metadata": {},
   "outputs": [
    {
     "data": {
      "image/png": "[encoded data removed]",
      "text/plain": [
       "<matplotlib.figure.Figure at 0x217e8e65470>"
      ]
     },
     "metadata": {},
     "output_type": "display_data"
    }
   ],
   "source": [
    "images_to_plot = 10\n",
    "\n",
    "fig, axes = plt.subplots(4,3, \n",
    "                         figsize=(5,5),\n",
    "                         sharex=True, sharey=True,\n",
    "                         subplot_kw=dict(adjustable='box-forced', aspect='equal'))  \n",
    "\n",
    "\n",
    "pixelValue_mean = np.zeros((images_to_plot, 784))\n",
    "\n",
    "\n",
    "for i in range(images_to_plot):\n",
    "    \n",
    "    # axes (subplot) objects are stored in 2d array, accessed with axes[row,col]\n",
    "    subplot_row = i//3 \n",
    "    subplot_col = i%3  \n",
    "    ax = axes[subplot_row, subplot_col]\n",
    "        \n",
    "    i_meanPixel = np.mean(X[y==i], axis = 0)\n",
    "    pixelValue_mean[i] = i_meanPixel\n",
    "    \n",
    "    # plot image on subplot\n",
    "    plottable_image = np.reshape(i_meanPixel, (28,28))\n",
    "    ax.imshow(plottable_image, cmap='gray_r')\n",
    "    \n",
    "    ax.set_title('Digit Label: {}'.format(i))\n",
    "    ax.set_xbound([0,28])\n",
    "\n",
    "    \n",
    "plt.tight_layout()\n",
    "plt.show()"
   ]
  },
  {
   "cell_type": "code",
   "execution_count": 553,
   "metadata": {},
   "outputs": [],
   "source": [
    "# Convert resident status to one hot encoding\n",
    "df_merge2['foreigner'] = [1 if i == 'Foreigner' else 0 for i in df_merge2.resident_status]\n",
    "df_merge2['pr'] = [1 if i == 'PR' else 0 for i in df_merge2.resident_status]\n",
    "df_merge2['Singapore Citizen'] = [1 if i == 'Singapore citizen' else 0 for i in df_merge2.resident_status]\n",
    "df_merge2['Singaporean'] = [1 if i == 'Singaporean' else 0 for i in df_merge2.resident_status]"
   ]
  },
  {
   "cell_type": "code",
   "execution_count": 9,
   "metadata": {},
   "outputs": [],
   "source": [
    "# Convert gender to one hot encoding\n",
    "Data_EuDist = np.zeros(60000)\n",
    "\n",
    "for k in range(10):\n",
    "    \n",
    "    indices = np.where(y==k)\n",
    "    \n",
    "    for j in range(len(indices[0])):\n",
    "        Data_EuDist[indices[0][j]] = np.linalg.norm(X[indices[0][j]] - pixelValue_mean[k], axis = 0)\n",
    "\n"
   ]
  },
  {
   "cell_type": "code",
   "execution_count": 10,
   "metadata": {
    "scrolled": true
   },
   "outputs": [
    {
     "data": {
      "text/plain": [
       "<matplotlib.axes._subplots.AxesSubplot at 0x217b3ef83c8>"
      ]
     },
     "execution_count": 10,
     "metadata": {},
     "output_type": "execute_result"
    },
    {
     "data": {
      "image/png": "[encoded data removed]",
      "text/plain": [
       "<matplotlib.figure.Figure at 0x217e84c4cf8>"
      ]
     },
     "metadata": {},
     "output_type": "display_data"
    }
   ],
   "source": [
    "# Boxplot of variability of digit images\n",
    "\n",
    "data2plot = pd.DataFrame(Data_EuDist,columns = [\"dist\"])\n",
    "\n",
    "data2plot['digits'] = y \n",
    "\n",
    "data2plot\n",
    "data2plot.boxplot(by = 'digits')"
   ]
  },
  {
   "cell_type": "markdown",
   "metadata": {},
   "source": [
    "# 3. Model Selection\n",
    "We look at three types of classification algorithms: Simple Gaussian classification without feature covariance, Gaussian classification with feature covariance and Bernoulli classification. \n",
    "\n",
    "Gaussian classification gave us the highest accuracy about 95%, while Bernoulli classification gave us 85% with a little loss of information when doing feature engineering.  \n"
   ]
  },
  {
   "cell_type": "code",
   "execution_count": null,
   "metadata": {},
   "outputs": [],
   "source": [
    "# simple Guassian Naive Bayes without covariance\n",
    "class GuassNB:\n",
    "  def fit(self, X, y, epsilon= 1e-3):\n",
    "      self.likelihoods = dict()\n",
    "      self.priors=dict()\n",
    "      self.K = set(y.astype(int))\n",
    "\n",
    "      for k in self.K:\n",
    "        X_k = X[y==k,:]\n",
    "        self.likelihoods[k] = {\"mean\":X_k.mean(axis =0), \"cov\": X_k.var(axis = 0)+ epsilon}\n",
    "        self.priors[k] =len(X_k)/len(X)\n",
    "\n",
    "  def predict(self, X):\n",
    "      N, D = X.shape\n",
    "      P_hat = np.zeros((N, len(self.K)))\n",
    "      \n",
    "      for k, l in self.likelihoods.items():\n",
    "        P_hat[:,k] = mvn.logpdf(X, l[\"mean\"], l[\"cov\"]) + np.log(self.priors[k]) \n",
    "      \n",
    "      return P_hat.argmax(axis =1)"
   ]
  },
  {
   "cell_type": "code",
   "execution_count": 12,
   "metadata": {},
   "outputs": [],
   "source": [
    "# Guassian Naive Bayes with covariance\n",
    "\n",
    "class GuassBayes:\n",
    "  \n",
    "    def fit(self, X, y, epsilon= 1e3):\n",
    "      self.likelihoods = dict()\n",
    "      self.priors=dict()\n",
    "      self.K = set(y.astype(int))\n",
    "      N, D = X.shape\n",
    "      for k in self.K:\n",
    "        X_k = X[y==k,:]\n",
    "        mu_k = X_k.mean(axis =0)\n",
    "        self.likelihoods[k] = {\"mean\":X_k.mean(axis =0), \"cov\": 1/(len(X_k))* np.matmul((X_k-mu_k).T,(X_k - mu_k)) + epsilon*np.identity(D)}\n",
    "        #self.likelihoods[k] = {\"mean\":X_k.mean(axis =0), \"cov\": X_k.var(axis = 0)+ epsilon}\n",
    "        self.priors[k] =len(X_k)/len(X)\n",
    "\n",
    "    def predict(self, X):\n",
    "       N, D = X.shape\n",
    "       P_hat = np.zeros((N, len(self.K)))\n",
    "          \n",
    "       for k, l in self.likelihoods.items():\n",
    "          P_hat[:,k] = mvn.logpdf(X, l[\"mean\"], l[\"cov\"]) + np.log(self.priors[k]) \n",
    "          \n",
    "       return P_hat.argmax(axis =1)"
   ]
  },
  {
   "cell_type": "code",
   "execution_count": 774,
   "metadata": {},
   "outputs": [],
   "source": [
    "class BernoulliBayes:\n",
    "    \n",
    "    def fit(self, X, y, epsilon= 0.01):\n",
    "      self.likelihoods = dict()\n",
    "      self.likelihoods2 = dict() \n",
    "      self.priors=dict()\n",
    "      self.K = set(y.astype(int))\n",
    "      N, D = X.shape\n",
    "      for k in self.K:\n",
    "        X_k = X[y==k]\n",
    "        #mu_k = X_k.mean(axis =0)\n",
    "        pixel_prob_k = (sum(X_k)+1)/(len(X_k)+ 2)\n",
    "        print(pixel_prob_k.shape)\n",
    "#        print(pixel_prob_k.shape)\n",
    "        self.likelihoods[k] = {\"mean\":pixel_prob_k , \"cov\": pixel_prob_k * (1 - pixel_prob_k) }\n",
    "        \n",
    "        #for j in range(D):\n",
    "        #    self.likelihoods2[k] \n",
    "        #self.likelihoods[k] = {\"mean\":sum(X_k, axis = 0)/len(X_k), \"cov\": (sum(X_k, axis = 0)/len(X_k))* \n",
    "        #                       (1 - sum(X_k, axis = 0)/len(X_k))  + epsilon}\n",
    "        #self.likelihoods[k] = {\"mean\":X_k.mean(axis =0), \"cov\": X_k.var(axis = 0) + epsilon}\n",
    "        self.priors[k] =len(X_k)/len(X)\n",
    "\n",
    "    def predict(self, X):\n",
    "       N, D = X.shape\n",
    "       P_hat = np.zeros((N, len(self.K)))\n",
    "       \n",
    "       for k, l in self.likelihoods.items():\n",
    "          \n",
    "           \n",
    "    #      pixel_benoulli_prob =  \n",
    "    #      P_hat[:,k] = [np.log(sum(X_k, axis = 0)/len(X_k))*(y[:,k]==1)  + (y[:,k]==0)*(1-np.log(sum(X_k, axis = 0)/len(X_k)))   + np.log(self.priors[k]) \n",
    "          P_hat[:,k] = np.sum(np.log(l['mean']) * X, axis=1) + np.sum(np.log(abs(1-l[\"mean\"])) * (1-X), axis=1) + np.log(self.priors[k])\n",
    "#          P_hat[:,k] = np.log(self.priors[k]) + np.matmul()\n",
    "#          print(X.shape)\n",
    "\n",
    "\n",
    "\n",
    "#          print(l['mean'].shape)\n",
    "#          print((X*np.log(l['mean'])).shape)\n",
    "       return P_hat.argmax(axis =1)"
   ]
  },
  {
   "cell_type": "code",
   "execution_count": null,
   "metadata": {},
   "outputs": [],
   "source": [
    "gnb = GuassBayes()\n",
    "# gnb = BernoulliBayes()\n",
    "#gnb = GuassNB()\n",
    "gnb.fit(X,y)\n",
    "y_hat = gnb.predict(X)\n",
    "print(accuracy(y_train,y_hat))"
   ]
  },
  {
   "cell_type": "markdown",
   "metadata": {},
   "source": [
    "# 3. Training set size impact on accuracy\n",
    "\n",
    "We also looked at the impact of train set to evaluate training set size impact on the accuracy of a typical algorithm. With average accuracy of 94.9% on test set with training set ranging from 10% to 90%. Training set size has immaterial impact on the accuracy of Gaussian Naïve Bayes classification which confirms the multivariate Gaussian distribution of the pixel features. \n"
   ]
  },
  {
   "cell_type": "code",
   "execution_count": 787,
   "metadata": {},
   "outputs": [],
   "source": [
    "Accuracy_train = []\n",
    "Accuracy_test = []\n",
    "#\n",
    "for i in range(6,7):\n",
    "    testsize = (i)/10\n",
    "    \n",
    "    TrainLastRow = int((1-testsize)*N)\n",
    "        \n",
    "    X_train= X[:TrainLastRow,:]\n",
    "    X_test = X[TrainLastRow:, :]\n",
    "        \n",
    "    y_train = y[:TrainLastRow, ]\n",
    "    y_test = y[TrainLastRow:,]\n",
    "    \n",
    "    gnb = GuassBayes()\n",
    "    gnb.fit(X_train,y_train)\n",
    "    \n",
    "    y_hat = gnb.predict(X_train)\n",
    "    y_test_hat = gnb.predict(X_test)\n",
    "    \n",
    "    accuracy_Train = accuracy(y_train, y_hat)\n",
    "    accuracy_Test = accuracy(y_test, y_test_hat)\n",
    "        \n",
    "    Accuracy_train.append(accuracy_Train) \n",
    "    Accuracy_test.append(accuracy_Test)\n",
    "    cm = confusion_matrix(y_test, y_test_hat)"
   ]
  },
  {
   "cell_type": "code",
   "execution_count": null,
   "metadata": {},
   "outputs": [],
   "source": []
  },
  {
   "cell_type": "markdown",
   "metadata": {},
   "source": [
    "## Our winner is Gaussian Naive Classification with Covariance: Accuracy: 95%"
   ]
  },
  {
   "cell_type": "code",
   "execution_count": null,
   "metadata": {},
   "outputs": [],
   "source": [
    "        "
   ]
  }
 ],
 "metadata": {
  "kernelspec": {
   "display_name": "Python 3",
   "language": "python",
   "name": "python3"
  },
  "language_info": {
   "codemirror_mode": {
    "name": "ipython",
    "version": 3
   },
   "file_extension": ".py",
   "mimetype": "text/x-python",
   "name": "python",
   "nbconvert_exporter": "python",
   "pygments_lexer": "ipython3",
   "version": "3.6.4"
  }
 },
 "nbformat": 4,
 "nbformat_minor": 4
}
